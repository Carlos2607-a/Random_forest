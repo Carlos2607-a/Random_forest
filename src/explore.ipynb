{
    "cells": [
        {
            "cell_type": "markdown",
            "metadata": {},
            "source": [
                "### En esta oportunidad trabajeremos con la misma base de datos de diabetes, por eso importaremos la misma data, como pudimo evidenciar que dicha data no tiene duplicados, datos faltantes.\n",
                "\n",
                "    - Procedemos a dividir los datos y aplicar el modelo de Random Forest.\n",
                "    - Validar si buscando mejores hiperparametros mejoramos los resultados."
            ]
        },
        {
            "cell_type": "code",
            "execution_count": 8,
            "metadata": {},
            "outputs": [],
            "source": [
                "import pandas as pd\n",
                "from sklearn.model_selection import train_test_split\n",
                "from imblearn.metrics import specificity_score\n",
                "from sklearn.metrics import accuracy_score, f1_score, roc_auc_score, precision_score, recall_score\n",
                "from sklearn.ensemble import RandomForestClassifier"
            ]
        },
        {
            "cell_type": "code",
            "execution_count": 9,
            "metadata": {},
            "outputs": [
                {
                    "data": {
                        "text/html": [
                            "<div>\n",
                            "<style scoped>\n",
                            "    .dataframe tbody tr th:only-of-type {\n",
                            "        vertical-align: middle;\n",
                            "    }\n",
                            "\n",
                            "    .dataframe tbody tr th {\n",
                            "        vertical-align: top;\n",
                            "    }\n",
                            "\n",
                            "    .dataframe thead th {\n",
                            "        text-align: right;\n",
                            "    }\n",
                            "</style>\n",
                            "<table border=\"1\" class=\"dataframe\">\n",
                            "  <thead>\n",
                            "    <tr style=\"text-align: right;\">\n",
                            "      <th></th>\n",
                            "      <th>Pregnancies</th>\n",
                            "      <th>Glucose</th>\n",
                            "      <th>BloodPressure</th>\n",
                            "      <th>SkinThickness</th>\n",
                            "      <th>Insulin</th>\n",
                            "      <th>BMI</th>\n",
                            "      <th>DiabetesPedigreeFunction</th>\n",
                            "      <th>Age</th>\n",
                            "      <th>Outcome</th>\n",
                            "    </tr>\n",
                            "  </thead>\n",
                            "  <tbody>\n",
                            "    <tr>\n",
                            "      <th>0</th>\n",
                            "      <td>6</td>\n",
                            "      <td>148</td>\n",
                            "      <td>72</td>\n",
                            "      <td>35</td>\n",
                            "      <td>0</td>\n",
                            "      <td>33.6</td>\n",
                            "      <td>0.627</td>\n",
                            "      <td>50</td>\n",
                            "      <td>1</td>\n",
                            "    </tr>\n",
                            "    <tr>\n",
                            "      <th>1</th>\n",
                            "      <td>1</td>\n",
                            "      <td>85</td>\n",
                            "      <td>66</td>\n",
                            "      <td>29</td>\n",
                            "      <td>0</td>\n",
                            "      <td>26.6</td>\n",
                            "      <td>0.351</td>\n",
                            "      <td>31</td>\n",
                            "      <td>0</td>\n",
                            "    </tr>\n",
                            "    <tr>\n",
                            "      <th>2</th>\n",
                            "      <td>8</td>\n",
                            "      <td>183</td>\n",
                            "      <td>64</td>\n",
                            "      <td>0</td>\n",
                            "      <td>0</td>\n",
                            "      <td>23.3</td>\n",
                            "      <td>0.672</td>\n",
                            "      <td>32</td>\n",
                            "      <td>1</td>\n",
                            "    </tr>\n",
                            "    <tr>\n",
                            "      <th>3</th>\n",
                            "      <td>1</td>\n",
                            "      <td>89</td>\n",
                            "      <td>66</td>\n",
                            "      <td>23</td>\n",
                            "      <td>94</td>\n",
                            "      <td>28.1</td>\n",
                            "      <td>0.167</td>\n",
                            "      <td>21</td>\n",
                            "      <td>0</td>\n",
                            "    </tr>\n",
                            "    <tr>\n",
                            "      <th>4</th>\n",
                            "      <td>0</td>\n",
                            "      <td>137</td>\n",
                            "      <td>40</td>\n",
                            "      <td>35</td>\n",
                            "      <td>168</td>\n",
                            "      <td>43.1</td>\n",
                            "      <td>2.288</td>\n",
                            "      <td>33</td>\n",
                            "      <td>1</td>\n",
                            "    </tr>\n",
                            "  </tbody>\n",
                            "</table>\n",
                            "</div>"
                        ],
                        "text/plain": [
                            "   Pregnancies  Glucose  BloodPressure  SkinThickness  Insulin   BMI  \\\n",
                            "0            6      148             72             35        0  33.6   \n",
                            "1            1       85             66             29        0  26.6   \n",
                            "2            8      183             64              0        0  23.3   \n",
                            "3            1       89             66             23       94  28.1   \n",
                            "4            0      137             40             35      168  43.1   \n",
                            "\n",
                            "   DiabetesPedigreeFunction  Age  Outcome  \n",
                            "0                     0.627   50        1  \n",
                            "1                     0.351   31        0  \n",
                            "2                     0.672   32        1  \n",
                            "3                     0.167   21        0  \n",
                            "4                     2.288   33        1  "
                        ]
                    },
                    "execution_count": 9,
                    "metadata": {},
                    "output_type": "execute_result"
                }
            ],
            "source": [
                "data_original = pd.read_csv(\"https://raw.githubusercontent.com/4GeeksAcademy/decision-tree-project-tutorial/main/diabetes.csv\")\n",
                "data_original.head()"
            ]
        },
        {
            "cell_type": "code",
            "execution_count": 10,
            "metadata": {},
            "outputs": [],
            "source": [
                "def get_metrics(y_train, y_test, y_pred_train, y_pred_test):\n",
                "    # Calcular métricas para el conjunto de entrenamiento\n",
                "    train_accuracy = accuracy_score(y_train, y_pred_train)\n",
                "    train_f1 = f1_score(y_train, y_pred_train)\n",
                "    train_auc = roc_auc_score(y_train, y_pred_train)\n",
                "    train_precision = precision_score(y_train, y_pred_train)\n",
                "    train_recall = recall_score(y_train, y_pred_train)\n",
                "    train_specificity = specificity_score(y_train, y_pred_train)\n",
                "\n",
                "    # Calcular métricas para el conjunto de prueba\n",
                "    test_accuracy = accuracy_score(y_test, y_pred_test)\n",
                "    test_f1 = f1_score(y_test, y_pred_test)\n",
                "    test_auc = roc_auc_score(y_test, y_pred_test)\n",
                "    test_precision = precision_score(y_test, y_pred_test)\n",
                "    test_recall = recall_score(y_test, y_pred_test)\n",
                "    test_specificity = specificity_score(y_test, y_pred_test)\n",
                "\n",
                "    # Calcular la diferencia entre métricas de entrenamiento y prueba\n",
                "    diff_accuracy = train_accuracy - test_accuracy\n",
                "    diff_f1 = train_f1 - test_f1\n",
                "    diff_auc = train_auc - test_auc\n",
                "    diff_precision = train_precision - test_precision\n",
                "    diff_recall = train_recall - test_recall\n",
                "    diff_specificity = train_specificity - test_specificity\n",
                "\n",
                "    # Crear un DataFrame con los resultados\n",
                "    metrics_df = pd.DataFrame([[train_accuracy, train_f1, train_auc, train_precision, train_recall, train_specificity],[test_accuracy, test_f1, test_auc, test_precision, test_recall, test_specificity],[diff_accuracy, diff_f1, diff_auc, diff_precision, diff_recall, diff_specificity]],\n",
                "                              columns = ['Accuracy', 'F1', 'AUC', 'Precision', 'Recall', 'Specificity'],\n",
                "                              index = ['Train','Test', 'Diferencia'])\n",
                "    \n",
                "    return metrics_df"
            ]
        },
        {
            "cell_type": "code",
            "execution_count": 11,
            "metadata": {},
            "outputs": [],
            "source": [
                "X = data_original.drop(['Outcome'], axis=1)\n",
                "y = data_original['Outcome']\n",
                "\n",
                "X_train, X_test, y_train, y_test = train_test_split(X, y, test_size=0.2, random_state=42)"
            ]
        },
        {
            "cell_type": "code",
            "execution_count": 12,
            "metadata": {},
            "outputs": [
                {
                    "name": "stdout",
                    "output_type": "stream",
                    "text": [
                        "Accuracy: 0.7207792207792207\n"
                    ]
                }
            ],
            "source": [
                "# Inicializar el modelo Random Forest Classifier\n",
                "rf_classifier = RandomForestClassifier(n_estimators=100, random_state=42)\n",
                "\n",
                "# Entrenar el modelo\n",
                "rf_classifier.fit(X_train, y_train)\n",
                "\n",
                "# Predecir con el conjunto de prueba\n",
                "predictions = rf_classifier.predict(X_test)\n",
                "\n",
                "# Calcular la precisión del modelo\n",
                "accuracy = accuracy_score(y_test, predictions)\n",
                "print(\"Accuracy:\", accuracy)"
            ]
        },
        {
            "cell_type": "code",
            "execution_count": 13,
            "metadata": {},
            "outputs": [
                {
                    "name": "stdout",
                    "output_type": "stream",
                    "text": [
                        "Mejores parámetros: {'max_depth': 5, 'min_samples_split': 5, 'n_estimators': 20}\n",
                        "Accuracy: 0.7662337662337663\n"
                    ]
                }
            ],
            "source": [
                "from sklearn.model_selection import GridSearchCV\n",
                "\n",
                "# Define los parámetros a buscar\n",
                "param_grid = {\n",
                "    'n_estimators': [5, 10, 20],\n",
                "    'max_depth': [None, 5, 10, 15],\n",
                "    'min_samples_split': [2, 5, 10]\n",
                "}\n",
                "\n",
                "# Inicializa el modelo\n",
                "rf_classifier = RandomForestClassifier(random_state=42)\n",
                "\n",
                "# Realiza la búsqueda de cuadrícula\n",
                "grid_search = GridSearchCV(rf_classifier, param_grid, cv=5, scoring='accuracy')\n",
                "grid_search.fit(X_train, y_train)\n",
                "\n",
                "# Muestra los mejores parámetros encontrados\n",
                "print(\"Mejores parámetros:\", grid_search.best_params_)\n",
                "\n",
                "# Evalúa el modelo con los mejores parámetros en el conjunto de prueba\n",
                "best_model = grid_search.best_estimator_\n",
                "accuracy = best_model.score(X_test, y_test)\n",
                "print(\"Accuracy:\", accuracy)"
            ]
        },
        {
            "cell_type": "code",
            "execution_count": 14,
            "metadata": {},
            "outputs": [
                {
                    "name": "stdout",
                    "output_type": "stream",
                    "text": [
                        "Mejores parámetros: {'n_estimators': 20, 'min_samples_leaf': 3, 'max_features': 5, 'max_depth': 4}\n",
                        "Accuracy: 0.7922077922077922\n"
                    ]
                }
            ],
            "source": [
                "from sklearn.model_selection import RandomizedSearchCV\n",
                "\n",
                "\n",
                "# Define los rangos para hiperparámetros\n",
                "param_dist = {\n",
                "    'n_estimators': [5, 10, 20],  # List of possible values for n_estimators\n",
                "        'max_depth': [1,3,4,5, 8, 10],  # You can specify different values to search\n",
                "    'max_features': [8,(X_train.shape[1] // 2) ,(X_train.shape[1] // 2) + 1, (X_train.shape[1] // 2) + 2],\n",
                "    'min_samples_leaf': [3, 5, 10,15,20],\n",
                "}\n",
                "\n",
                "# Inicializa el modelo\n",
                "rf_classifier = RandomForestClassifier(random_state=42)\n",
                "\n",
                "# Realiza la búsqueda aleatoria\n",
                "random_search = RandomizedSearchCV(rf_classifier, param_distributions=param_dist, n_iter=100, cv=5, random_state=42, scoring='accuracy')\n",
                "random_search.fit(X_train, y_train)\n",
                "\n",
                "# Muestra los mejores parámetros encontrados\n",
                "print(\"Mejores parámetros:\", random_search.best_params_)\n",
                "\n",
                "# Evalúa el modelo con los mejores parámetros en el conjunto de prueba\n",
                "best_model = random_search.best_estimator_\n",
                "accuracy = best_model.score(X_test, y_test)\n",
                "print(\"Accuracy:\", accuracy)\n"
            ]
        },
        {
            "cell_type": "code",
            "execution_count": 15,
            "metadata": {},
            "outputs": [],
            "source": [
                "train_forest_predict = random_search.predict(X_train)\n",
                "test_forest_predict = random_search.predict(X_test)"
            ]
        },
        {
            "cell_type": "code",
            "execution_count": 16,
            "metadata": {},
            "outputs": [
                {
                    "data": {
                        "text/html": [
                            "<div>\n",
                            "<style scoped>\n",
                            "    .dataframe tbody tr th:only-of-type {\n",
                            "        vertical-align: middle;\n",
                            "    }\n",
                            "\n",
                            "    .dataframe tbody tr th {\n",
                            "        vertical-align: top;\n",
                            "    }\n",
                            "\n",
                            "    .dataframe thead th {\n",
                            "        text-align: right;\n",
                            "    }\n",
                            "</style>\n",
                            "<table border=\"1\" class=\"dataframe\">\n",
                            "  <thead>\n",
                            "    <tr style=\"text-align: right;\">\n",
                            "      <th></th>\n",
                            "      <th>Accuracy</th>\n",
                            "      <th>F1</th>\n",
                            "      <th>AUC</th>\n",
                            "      <th>Precision</th>\n",
                            "      <th>Recall</th>\n",
                            "      <th>Specificity</th>\n",
                            "    </tr>\n",
                            "  </thead>\n",
                            "  <tbody>\n",
                            "    <tr>\n",
                            "      <th>Train</th>\n",
                            "      <td>0.820847</td>\n",
                            "      <td>0.707447</td>\n",
                            "      <td>0.774800</td>\n",
                            "      <td>0.815951</td>\n",
                            "      <td>0.624413</td>\n",
                            "      <td>0.925187</td>\n",
                            "    </tr>\n",
                            "    <tr>\n",
                            "      <th>Test</th>\n",
                            "      <td>0.792208</td>\n",
                            "      <td>0.698113</td>\n",
                            "      <td>0.765657</td>\n",
                            "      <td>0.725490</td>\n",
                            "      <td>0.672727</td>\n",
                            "      <td>0.858586</td>\n",
                            "    </tr>\n",
                            "    <tr>\n",
                            "      <th>Diferencia</th>\n",
                            "      <td>0.028639</td>\n",
                            "      <td>0.009334</td>\n",
                            "      <td>0.009144</td>\n",
                            "      <td>0.090461</td>\n",
                            "      <td>-0.048314</td>\n",
                            "      <td>0.066601</td>\n",
                            "    </tr>\n",
                            "  </tbody>\n",
                            "</table>\n",
                            "</div>"
                        ],
                        "text/plain": [
                            "            Accuracy        F1       AUC  Precision    Recall  Specificity\n",
                            "Train       0.820847  0.707447  0.774800   0.815951  0.624413     0.925187\n",
                            "Test        0.792208  0.698113  0.765657   0.725490  0.672727     0.858586\n",
                            "Diferencia  0.028639  0.009334  0.009144   0.090461 -0.048314     0.066601"
                        ]
                    },
                    "execution_count": 16,
                    "metadata": {},
                    "output_type": "execute_result"
                }
            ],
            "source": [
                "get_metrics(y_train, y_test, train_forest_predict, test_forest_predict)"
            ]
        },
        {
            "cell_type": "markdown",
            "metadata": {},
            "source": [
                "### Con el metodo Random Forest presenta una mejora con respecto al arbol de decisión, disminuyendo el porcentaje de diferencia enre el metodo de entrenamiento y testeo."
            ]
        }
    ],
    "metadata": {
        "kernelspec": {
            "display_name": "Python 3.8.13 64-bit ('3.8.13')",
            "language": "python",
            "name": "python3"
        },
        "language_info": {
            "codemirror_mode": {
                "name": "ipython",
                "version": 3
            },
            "file_extension": ".py",
            "mimetype": "text/x-python",
            "name": "python",
            "nbconvert_exporter": "python",
            "pygments_lexer": "ipython3",
            "version": "3.11.4"
        },
        "orig_nbformat": 4,
        "vscode": {
            "interpreter": {
                "hash": "110cc1dee26208153f2972f08a2ad52b6a56238dc66d48e87fb757ef2996db56"
            }
        }
    },
    "nbformat": 4,
    "nbformat_minor": 2
}
